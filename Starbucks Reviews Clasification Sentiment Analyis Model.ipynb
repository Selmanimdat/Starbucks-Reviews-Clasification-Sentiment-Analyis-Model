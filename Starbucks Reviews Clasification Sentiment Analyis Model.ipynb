{
 "cells": [
  {
   "cell_type": "markdown",
   "metadata": {},
   "source": [
    "# Starbucks Reviews Clasification Sentiment Analyis Model"
   ]
  },
  {
   "cell_type": "code",
   "execution_count": 2,
   "metadata": {
    "execution": {
     "iopub.execute_input": "2023-12-19T12:04:26.457520Z",
     "iopub.status.busy": "2023-12-19T12:04:26.457079Z",
     "iopub.status.idle": "2023-12-19T12:04:26.462548Z",
     "shell.execute_reply": "2023-12-19T12:04:26.461429Z",
     "shell.execute_reply.started": "2023-12-19T12:04:26.457479Z"
    }
   },
   "outputs": [],
   "source": [
    "# Starbucks Reviews Clasification Sentiment Analyis Model"
   ]
  },
  {
   "cell_type": "code",
   "execution_count": 34,
   "metadata": {
    "execution": {
     "iopub.execute_input": "2023-12-19T12:26:04.837328Z",
     "iopub.status.busy": "2023-12-19T12:26:04.836792Z",
     "iopub.status.idle": "2023-12-19T12:26:04.851609Z",
     "shell.execute_reply": "2023-12-19T12:26:04.850091Z",
     "shell.execute_reply.started": "2023-12-19T12:26:04.837283Z"
    }
   },
   "outputs": [
    {
     "name": "stdout",
     "output_type": "stream",
     "text": [
      "[nltk_data] Downloading package stopwords to /usr/share/nltk_data...\n",
      "[nltk_data]   Package stopwords is already up-to-date!\n"
     ]
    }
   ],
   "source": [
    "#libraries\n",
    "import pandas as pd\n",
    "import seaborn as sns\n",
    "import matplotlib.pyplot as plt\n",
    "from wordcloud import WordCloud, STOPWORDS, ImageColorGenerator\n",
    "from sklearn.model_selection import train_test_split\n",
    "from sklearn.metrics import accuracy_score, confusion_matrix, classification_report\n",
    "from sklearn.feature_extraction.text import CountVectorizer\n",
    "import nltk\n",
    "from sklearn.naive_bayes import MultinomialNB\n",
    "from nltk.sentiment.vader import SentimentIntensityAnalyzer\n",
    "from nltk.corpus import stopwords\n",
    "import string\n",
    "import re\n",
    "nltk.download('stopwords')\n",
    "stemmer = nltk.SnowballStemmer(\"english\")\n",
    "import joblib\n",
    "import warnings\n",
    "\n",
    "warnings.filterwarnings(\"ignore\")"
   ]
  },
  {
   "cell_type": "code",
   "execution_count": 4,
   "metadata": {
    "execution": {
     "iopub.execute_input": "2023-12-19T12:05:11.277117Z",
     "iopub.status.busy": "2023-12-19T12:05:11.275617Z",
     "iopub.status.idle": "2023-12-19T12:05:11.339759Z",
     "shell.execute_reply": "2023-12-19T12:05:11.338362Z",
     "shell.execute_reply.started": "2023-12-19T12:05:11.277068Z"
    }
   },
   "outputs": [
    {
     "data": {
      "text/html": [
       "<div>\n",
       "<style scoped>\n",
       "    .dataframe tbody tr th:only-of-type {\n",
       "        vertical-align: middle;\n",
       "    }\n",
       "\n",
       "    .dataframe tbody tr th {\n",
       "        vertical-align: top;\n",
       "    }\n",
       "\n",
       "    .dataframe thead th {\n",
       "        text-align: right;\n",
       "    }\n",
       "</style>\n",
       "<table border=\"1\" class=\"dataframe\">\n",
       "  <thead>\n",
       "    <tr style=\"text-align: right;\">\n",
       "      <th></th>\n",
       "      <th>name</th>\n",
       "      <th>location</th>\n",
       "      <th>Date</th>\n",
       "      <th>Rating</th>\n",
       "      <th>Review</th>\n",
       "      <th>Image_Links</th>\n",
       "    </tr>\n",
       "  </thead>\n",
       "  <tbody>\n",
       "    <tr>\n",
       "      <th>0</th>\n",
       "      <td>Helen</td>\n",
       "      <td>Wichita Falls, TX</td>\n",
       "      <td>Reviewed Sept. 13, 2023</td>\n",
       "      <td>5.0</td>\n",
       "      <td>Amber and LaDonna at the Starbucks on Southwes...</td>\n",
       "      <td>['No Images']</td>\n",
       "    </tr>\n",
       "    <tr>\n",
       "      <th>1</th>\n",
       "      <td>Courtney</td>\n",
       "      <td>Apopka, FL</td>\n",
       "      <td>Reviewed July 16, 2023</td>\n",
       "      <td>5.0</td>\n",
       "      <td>** at the Starbucks by the fire station on 436...</td>\n",
       "      <td>['No Images']</td>\n",
       "    </tr>\n",
       "    <tr>\n",
       "      <th>2</th>\n",
       "      <td>Daynelle</td>\n",
       "      <td>Cranberry Twp, PA</td>\n",
       "      <td>Reviewed July 5, 2023</td>\n",
       "      <td>5.0</td>\n",
       "      <td>I just wanted to go out of my way to recognize...</td>\n",
       "      <td>['https://media.consumeraffairs.com/files/cach...</td>\n",
       "    </tr>\n",
       "    <tr>\n",
       "      <th>3</th>\n",
       "      <td>Taylor</td>\n",
       "      <td>Seattle, WA</td>\n",
       "      <td>Reviewed May 26, 2023</td>\n",
       "      <td>5.0</td>\n",
       "      <td>Me and my friend were at Starbucks and my card...</td>\n",
       "      <td>['No Images']</td>\n",
       "    </tr>\n",
       "    <tr>\n",
       "      <th>4</th>\n",
       "      <td>Tenessa</td>\n",
       "      <td>Gresham, OR</td>\n",
       "      <td>Reviewed Jan. 22, 2023</td>\n",
       "      <td>5.0</td>\n",
       "      <td>I’m on this kick of drinking 5 cups of warm wa...</td>\n",
       "      <td>['https://media.consumeraffairs.com/files/cach...</td>\n",
       "    </tr>\n",
       "  </tbody>\n",
       "</table>\n",
       "</div>"
      ],
      "text/plain": [
       "       name           location                     Date  Rating  \\\n",
       "0     Helen  Wichita Falls, TX  Reviewed Sept. 13, 2023     5.0   \n",
       "1  Courtney         Apopka, FL   Reviewed July 16, 2023     5.0   \n",
       "2  Daynelle  Cranberry Twp, PA    Reviewed July 5, 2023     5.0   \n",
       "3    Taylor        Seattle, WA    Reviewed May 26, 2023     5.0   \n",
       "4   Tenessa        Gresham, OR   Reviewed Jan. 22, 2023     5.0   \n",
       "\n",
       "                                              Review  \\\n",
       "0  Amber and LaDonna at the Starbucks on Southwes...   \n",
       "1  ** at the Starbucks by the fire station on 436...   \n",
       "2  I just wanted to go out of my way to recognize...   \n",
       "3  Me and my friend were at Starbucks and my card...   \n",
       "4  I’m on this kick of drinking 5 cups of warm wa...   \n",
       "\n",
       "                                         Image_Links  \n",
       "0                                      ['No Images']  \n",
       "1                                      ['No Images']  \n",
       "2  ['https://media.consumeraffairs.com/files/cach...  \n",
       "3                                      ['No Images']  \n",
       "4  ['https://media.consumeraffairs.com/files/cach...  "
      ]
     },
     "execution_count": 4,
     "metadata": {},
     "output_type": "execute_result"
    }
   ],
   "source": [
    "#read data\n",
    "df = pd.read_csv('/kaggle/input/starbucks-reviews-dataset/reviews_data.csv')\n",
    "df.head(5)"
   ]
  },
  {
   "cell_type": "code",
   "execution_count": 5,
   "metadata": {
    "execution": {
     "iopub.execute_input": "2023-12-19T12:05:36.602499Z",
     "iopub.status.busy": "2023-12-19T12:05:36.601282Z",
     "iopub.status.idle": "2023-12-19T12:05:36.608212Z",
     "shell.execute_reply": "2023-12-19T12:05:36.606869Z",
     "shell.execute_reply.started": "2023-12-19T12:05:36.602449Z"
    }
   },
   "outputs": [],
   "source": [
    "# preprocesing"
   ]
  },
  {
   "cell_type": "code",
   "execution_count": 8,
   "metadata": {
    "execution": {
     "iopub.execute_input": "2023-12-19T12:07:11.750928Z",
     "iopub.status.busy": "2023-12-19T12:07:11.749639Z",
     "iopub.status.idle": "2023-12-19T12:07:11.817493Z",
     "shell.execute_reply": "2023-12-19T12:07:11.816112Z",
     "shell.execute_reply.started": "2023-12-19T12:07:11.750870Z"
    }
   },
   "outputs": [
    {
     "data": {
      "text/html": [
       "<div>\n",
       "<style scoped>\n",
       "    .dataframe tbody tr th:only-of-type {\n",
       "        vertical-align: middle;\n",
       "    }\n",
       "\n",
       "    .dataframe tbody tr th {\n",
       "        vertical-align: top;\n",
       "    }\n",
       "\n",
       "    .dataframe thead th {\n",
       "        text-align: right;\n",
       "    }\n",
       "</style>\n",
       "<table border=\"1\" class=\"dataframe\">\n",
       "  <thead>\n",
       "    <tr style=\"text-align: right;\">\n",
       "      <th></th>\n",
       "      <th>Review</th>\n",
       "      <th>Rating</th>\n",
       "    </tr>\n",
       "  </thead>\n",
       "  <tbody>\n",
       "    <tr>\n",
       "      <th>0</th>\n",
       "      <td>amber and ladonna at the starbucks on southwes...</td>\n",
       "      <td>5.0</td>\n",
       "    </tr>\n",
       "    <tr>\n",
       "      <th>1</th>\n",
       "      <td>at the starbucks by the fire station on  in a...</td>\n",
       "      <td>5.0</td>\n",
       "    </tr>\n",
       "    <tr>\n",
       "      <th>2</th>\n",
       "      <td>i just wanted to go out of my way to recognize...</td>\n",
       "      <td>5.0</td>\n",
       "    </tr>\n",
       "    <tr>\n",
       "      <th>3</th>\n",
       "      <td>me and my friend were at starbucks and my card...</td>\n",
       "      <td>5.0</td>\n",
       "    </tr>\n",
       "    <tr>\n",
       "      <th>4</th>\n",
       "      <td>im on this kick of drinking  cups of warm wate...</td>\n",
       "      <td>5.0</td>\n",
       "    </tr>\n",
       "  </tbody>\n",
       "</table>\n",
       "</div>"
      ],
      "text/plain": [
       "                                              Review  Rating\n",
       "0  amber and ladonna at the starbucks on southwes...     5.0\n",
       "1   at the starbucks by the fire station on  in a...     5.0\n",
       "2  i just wanted to go out of my way to recognize...     5.0\n",
       "3  me and my friend were at starbucks and my card...     5.0\n",
       "4  im on this kick of drinking  cups of warm wate...     5.0"
      ]
     },
     "execution_count": 8,
     "metadata": {},
     "output_type": "execute_result"
    }
   ],
   "source": [
    "#remove number vs\n",
    "df=df[[\"Review\",\"Rating\"]]\n",
    "df['Review'] = df['Review'].str.lower().replace('[^\\w\\s]', '', regex=True).replace('\\d+', '', regex=True).replace('\\n', '', regex=True).replace('\\r', '', regex=True)\n",
    "df.head(5)"
   ]
  },
  {
   "cell_type": "code",
   "execution_count": 9,
   "metadata": {
    "execution": {
     "iopub.execute_input": "2023-12-19T12:07:33.442895Z",
     "iopub.status.busy": "2023-12-19T12:07:33.442463Z",
     "iopub.status.idle": "2023-12-19T12:07:33.453228Z",
     "shell.execute_reply": "2023-12-19T12:07:33.451949Z",
     "shell.execute_reply.started": "2023-12-19T12:07:33.442860Z"
    }
   },
   "outputs": [
    {
     "data": {
      "text/plain": [
       "array([ 5.,  1.,  2.,  3.,  4., nan])"
      ]
     },
     "execution_count": 9,
     "metadata": {},
     "output_type": "execute_result"
    }
   ],
   "source": [
    "df[\"Rating\"].unique()"
   ]
  },
  {
   "cell_type": "code",
   "execution_count": 10,
   "metadata": {
    "execution": {
     "iopub.execute_input": "2023-12-19T12:08:06.272187Z",
     "iopub.status.busy": "2023-12-19T12:08:06.271627Z",
     "iopub.status.idle": "2023-12-19T12:08:06.282802Z",
     "shell.execute_reply": "2023-12-19T12:08:06.281718Z",
     "shell.execute_reply.started": "2023-12-19T12:08:06.272127Z"
    }
   },
   "outputs": [
    {
     "data": {
      "text/plain": [
       "Review      0\n",
       "Rating    145\n",
       "dtype: int64"
      ]
     },
     "execution_count": 10,
     "metadata": {},
     "output_type": "execute_result"
    }
   ],
   "source": [
    "#ÊDA \n",
    "df.isnull().sum()"
   ]
  },
  {
   "cell_type": "code",
   "execution_count": 12,
   "metadata": {
    "execution": {
     "iopub.execute_input": "2023-12-19T12:08:21.250147Z",
     "iopub.status.busy": "2023-12-19T12:08:21.249675Z",
     "iopub.status.idle": "2023-12-19T12:08:21.258061Z",
     "shell.execute_reply": "2023-12-19T12:08:21.256835Z",
     "shell.execute_reply.started": "2023-12-19T12:08:21.250112Z"
    }
   },
   "outputs": [
    {
     "data": {
      "text/plain": [
       "(850, 2)"
      ]
     },
     "execution_count": 12,
     "metadata": {},
     "output_type": "execute_result"
    }
   ],
   "source": [
    "df.shape"
   ]
  },
  {
   "cell_type": "code",
   "execution_count": 14,
   "metadata": {
    "execution": {
     "iopub.execute_input": "2023-12-19T12:09:39.430730Z",
     "iopub.status.busy": "2023-12-19T12:09:39.430317Z",
     "iopub.status.idle": "2023-12-19T12:09:39.438061Z",
     "shell.execute_reply": "2023-12-19T12:09:39.436817Z",
     "shell.execute_reply.started": "2023-12-19T12:09:39.430691Z"
    }
   },
   "outputs": [],
   "source": [
    "#fill mising values with mean\n",
    "df[\"Rating\"].fillna(df[\"Rating\"].mean(), inplace=True)"
   ]
  },
  {
   "cell_type": "code",
   "execution_count": 15,
   "metadata": {
    "execution": {
     "iopub.execute_input": "2023-12-19T12:10:51.183204Z",
     "iopub.status.busy": "2023-12-19T12:10:51.182788Z",
     "iopub.status.idle": "2023-12-19T12:10:51.189746Z",
     "shell.execute_reply": "2023-12-19T12:10:51.188510Z",
     "shell.execute_reply.started": "2023-12-19T12:10:51.183170Z"
    }
   },
   "outputs": [],
   "source": [
    "df[\"Rating\"]=df[\"Rating\"].astype(\"int32\")"
   ]
  },
  {
   "cell_type": "code",
   "execution_count": 16,
   "metadata": {
    "execution": {
     "iopub.execute_input": "2023-12-19T12:12:25.387664Z",
     "iopub.status.busy": "2023-12-19T12:12:25.387264Z",
     "iopub.status.idle": "2023-12-19T12:12:25.396493Z",
     "shell.execute_reply": "2023-12-19T12:12:25.395624Z",
     "shell.execute_reply.started": "2023-12-19T12:12:25.387619Z"
    }
   },
   "outputs": [],
   "source": [
    "df['Label'] = df['Rating'].map({1: 0, 4: 1,5: 1,2:0})"
   ]
  },
  {
   "cell_type": "code",
   "execution_count": 21,
   "metadata": {
    "execution": {
     "iopub.execute_input": "2023-12-19T12:21:20.788269Z",
     "iopub.status.busy": "2023-12-19T12:21:20.787727Z",
     "iopub.status.idle": "2023-12-19T12:21:20.794512Z",
     "shell.execute_reply": "2023-12-19T12:21:20.792753Z",
     "shell.execute_reply.started": "2023-12-19T12:21:20.788225Z"
    }
   },
   "outputs": [],
   "source": [
    "#drop 3 beacause useless"
   ]
  },
  {
   "cell_type": "code",
   "execution_count": 20,
   "metadata": {
    "execution": {
     "iopub.execute_input": "2023-12-19T12:21:08.943742Z",
     "iopub.status.busy": "2023-12-19T12:21:08.943312Z",
     "iopub.status.idle": "2023-12-19T12:21:08.951896Z",
     "shell.execute_reply": "2023-12-19T12:21:08.950716Z",
     "shell.execute_reply.started": "2023-12-19T12:21:08.943707Z"
    }
   },
   "outputs": [],
   "source": [
    "df.drop(df[df['Rating'] == 3].index, inplace=True)"
   ]
  },
  {
   "cell_type": "code",
   "execution_count": 27,
   "metadata": {
    "execution": {
     "iopub.execute_input": "2023-12-19T12:23:47.618569Z",
     "iopub.status.busy": "2023-12-19T12:23:47.618075Z",
     "iopub.status.idle": "2023-12-19T12:23:47.625228Z",
     "shell.execute_reply": "2023-12-19T12:23:47.623747Z",
     "shell.execute_reply.started": "2023-12-19T12:23:47.618532Z"
    }
   },
   "outputs": [],
   "source": [
    "df.reset_index(drop=True,inplace=True)"
   ]
  },
  {
   "cell_type": "code",
   "execution_count": 30,
   "metadata": {
    "execution": {
     "iopub.execute_input": "2023-12-19T12:24:42.789251Z",
     "iopub.status.busy": "2023-12-19T12:24:42.788792Z",
     "iopub.status.idle": "2023-12-19T12:24:42.795851Z",
     "shell.execute_reply": "2023-12-19T12:24:42.794444Z",
     "shell.execute_reply.started": "2023-12-19T12:24:42.789218Z"
    }
   },
   "outputs": [],
   "source": [
    "# x y split\n",
    "x=df[\"Review\"]\n",
    "y=df[\"Label\"]"
   ]
  },
  {
   "cell_type": "code",
   "execution_count": 31,
   "metadata": {
    "execution": {
     "iopub.execute_input": "2023-12-19T12:24:43.103752Z",
     "iopub.status.busy": "2023-12-19T12:24:43.102954Z",
     "iopub.status.idle": "2023-12-19T12:24:43.357086Z",
     "shell.execute_reply": "2023-12-19T12:24:43.355602Z",
     "shell.execute_reply.started": "2023-12-19T12:24:43.103708Z"
    }
   },
   "outputs": [],
   "source": [
    "# vectorizing\n",
    "vect=CountVectorizer(ngram_range=(1,2),stop_words=\"english\")\n",
    "x=vect.fit_transform(x)"
   ]
  },
  {
   "cell_type": "code",
   "execution_count": 32,
   "metadata": {
    "execution": {
     "iopub.execute_input": "2023-12-19T12:25:03.801449Z",
     "iopub.status.busy": "2023-12-19T12:25:03.800864Z",
     "iopub.status.idle": "2023-12-19T12:25:03.813126Z",
     "shell.execute_reply": "2023-12-19T12:25:03.811470Z",
     "shell.execute_reply.started": "2023-12-19T12:25:03.801399Z"
    }
   },
   "outputs": [],
   "source": [
    "#train test split\n",
    "x_train,x_test,y_train,y_test=train_test_split(x,y,test_size=.20,random_state=42)"
   ]
  },
  {
   "cell_type": "code",
   "execution_count": 35,
   "metadata": {
    "execution": {
     "iopub.execute_input": "2023-12-19T12:26:15.394372Z",
     "iopub.status.busy": "2023-12-19T12:26:15.393031Z",
     "iopub.status.idle": "2023-12-19T12:26:15.413348Z",
     "shell.execute_reply": "2023-12-19T12:26:15.411721Z",
     "shell.execute_reply.started": "2023-12-19T12:26:15.394317Z"
    }
   },
   "outputs": [],
   "source": [
    "#modeling\n",
    "nb=MultinomialNB()\n",
    "model=nb.fit(x_train,y_train)\n",
    "pred=nb.predict(x_test)"
   ]
  },
  {
   "cell_type": "code",
   "execution_count": 36,
   "metadata": {
    "execution": {
     "iopub.execute_input": "2023-12-19T12:26:24.810820Z",
     "iopub.status.busy": "2023-12-19T12:26:24.810294Z",
     "iopub.status.idle": "2023-12-19T12:26:24.820617Z",
     "shell.execute_reply": "2023-12-19T12:26:24.819743Z",
     "shell.execute_reply.started": "2023-12-19T12:26:24.810780Z"
    }
   },
   "outputs": [
    {
     "data": {
      "text/plain": [
       "0.8353658536585366"
      ]
     },
     "execution_count": 36,
     "metadata": {},
     "output_type": "execute_result"
    }
   ],
   "source": [
    "accuracy_score(pred,y_test)"
   ]
  },
  {
   "cell_type": "code",
   "execution_count": 37,
   "metadata": {
    "execution": {
     "iopub.execute_input": "2023-12-19T12:27:05.719242Z",
     "iopub.status.busy": "2023-12-19T12:27:05.718708Z",
     "iopub.status.idle": "2023-12-19T12:27:05.730291Z",
     "shell.execute_reply": "2023-12-19T12:27:05.728935Z",
     "shell.execute_reply.started": "2023-12-19T12:27:05.719204Z"
    }
   },
   "outputs": [
    {
     "data": {
      "text/plain": [
       "['model.joblib']"
      ]
     },
     "execution_count": 37,
     "metadata": {},
     "output_type": "execute_result"
    }
   ],
   "source": [
    "#save model\n",
    "joblib.dump(model,\"model.joblib\")"
   ]
  },
  {
   "cell_type": "code",
   "execution_count": 38,
   "metadata": {
    "execution": {
     "iopub.execute_input": "2023-12-19T12:27:13.603454Z",
     "iopub.status.busy": "2023-12-19T12:27:13.602961Z",
     "iopub.status.idle": "2023-12-19T12:27:13.609244Z",
     "shell.execute_reply": "2023-12-19T12:27:13.607862Z",
     "shell.execute_reply.started": "2023-12-19T12:27:13.603416Z"
    }
   },
   "outputs": [],
   "source": [
    "#sources"
   ]
  },
  {
   "cell_type": "markdown",
   "metadata": {},
   "source": [
    "-Zafer Acar Notes"
   ]
  },
  {
   "cell_type": "code",
   "execution_count": null,
   "metadata": {},
   "outputs": [],
   "source": []
  }
 ],
 "metadata": {
  "kaggle": {
   "accelerator": "none",
   "dataSources": [
    {
     "datasetId": 3741616,
     "sourceId": 6476914,
     "sourceType": "datasetVersion"
    }
   ],
   "dockerImageVersionId": 30626,
   "isGpuEnabled": false,
   "isInternetEnabled": true,
   "language": "python",
   "sourceType": "notebook"
  },
  "kernelspec": {
   "display_name": "Python 3 (ipykernel)",
   "language": "python",
   "name": "python3"
  },
  "language_info": {
   "codemirror_mode": {
    "name": "ipython",
    "version": 3
   },
   "file_extension": ".py",
   "mimetype": "text/x-python",
   "name": "python",
   "nbconvert_exporter": "python",
   "pygments_lexer": "ipython3",
   "version": "3.9.13"
  }
 },
 "nbformat": 4,
 "nbformat_minor": 4
}
